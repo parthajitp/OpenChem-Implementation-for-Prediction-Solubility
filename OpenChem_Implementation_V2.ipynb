{
  "cells": [
    {
      "cell_type": "markdown",
      "metadata": {
        "id": "view-in-github",
        "colab_type": "text"
      },
      "source": [
        "<a href=\"https://colab.research.google.com/github/parthajitp/OpenChem-Implementation-for-Prediction-Solubility/blob/main/OpenChem_Implementation_V2.ipynb\" target=\"_parent\"><img src=\"https://colab.research.google.com/assets/colab-badge.svg\" alt=\"Open In Colab\"/></a>"
      ]
    },
    {
      "cell_type": "code",
      "execution_count": 1,
      "metadata": {
        "colab": {
          "base_uri": "https://localhost:8080/"
        },
        "id": "LOh9kfYCNfXM",
        "outputId": "6dd05175-1d38-4f6c-e98b-c42128050acc"
      },
      "outputs": [
        {
          "output_type": "stream",
          "name": "stdout",
          "text": [
            "⏬ Downloading https://github.com/jaimergp/miniforge/releases/latest/download/Mambaforge-colab-Linux-x86_64.sh...\n",
            "📦 Installing...\n",
            "📌 Adjusting configuration...\n",
            "🩹 Patching environment...\n",
            "⏲ Done in 0:00:26\n",
            "🔁 Restarting kernel...\n"
          ]
        }
      ],
      "source": [
        "!pip install -q condacolab\n",
        "import condacolab\n",
        "condacolab.install()"
      ]
    },
    {
      "cell_type": "code",
      "execution_count": 2,
      "metadata": {
        "colab": {
          "base_uri": "https://localhost:8080/"
        },
        "id": "nEyhGCdVaPQi",
        "outputId": "a532997a-f528-44a2-830b-f27fc060baad"
      },
      "outputs": [
        {
          "output_type": "stream",
          "name": "stdout",
          "text": [
            "Cloning into 'OpenChem'...\n",
            "remote: Enumerating objects: 2179, done.\u001b[K\n",
            "remote: Counting objects: 100% (129/129), done.\u001b[K\n",
            "remote: Compressing objects: 100% (62/62), done.\u001b[K\n",
            "remote: Total 2179 (delta 62), reused 126 (delta 61), pack-reused 2050\u001b[K\n",
            "Receiving objects: 100% (2179/2179), 166.23 MiB | 19.96 MiB/s, done.\n",
            "Resolving deltas: 100% (1186/1186), done.\n",
            "Checking out files: 100% (259/259), done.\n",
            "/content/OpenChem\n"
          ]
        }
      ],
      "source": [
        "!git clone https://github.com/Mariewelt/OpenChem.git\n",
        "%cd OpenChem"
      ]
    },
    {
      "cell_type": "code",
      "execution_count": 2,
      "metadata": {
        "colab": {
          "base_uri": "https://localhost:8080/"
        },
        "id": "BBXb4JmObQms",
        "outputId": "2b2ad957-f0b6-4e04-c3dd-9c27cb574ad6"
      },
      "outputs": [
        {
          "output_type": "stream",
          "name": "stdout",
          "text": [
            "Collecting package metadata (current_repodata.json): - \b\b\\ \b\b| \b\b/ \b\b- \b\b\\ \b\b| \b\b/ \b\b- \b\b\\ \b\b| \b\bdone\n",
            "Solving environment: - \b\b\\ \b\bdone\n",
            "\n",
            "## Package Plan ##\n",
            "\n",
            "  environment location: /usr/local/envs/OpenChem\n",
            "\n",
            "  added / updated specs:\n",
            "    - python=3.7\n",
            "\n",
            "\n",
            "The following NEW packages will be INSTALLED:\n",
            "\n",
            "  _libgcc_mutex      conda-forge/linux-64::_libgcc_mutex-0.1-conda_forge\n",
            "  _openmp_mutex      conda-forge/linux-64::_openmp_mutex-4.5-2_gnu\n",
            "  ca-certificates    conda-forge/linux-64::ca-certificates-2022.5.18.1-ha878542_0\n",
            "  ld_impl_linux-64   conda-forge/linux-64::ld_impl_linux-64-2.36.1-hea4e1c9_2\n",
            "  libffi             conda-forge/linux-64::libffi-3.4.2-h7f98852_5\n",
            "  libgcc-ng          conda-forge/linux-64::libgcc-ng-12.1.0-h8d9b700_16\n",
            "  libgomp            conda-forge/linux-64::libgomp-12.1.0-h8d9b700_16\n",
            "  libnsl             conda-forge/linux-64::libnsl-2.0.0-h7f98852_0\n",
            "  libstdcxx-ng       conda-forge/linux-64::libstdcxx-ng-12.1.0-ha89aaad_16\n",
            "  libzlib            conda-forge/linux-64::libzlib-1.2.12-h166bdaf_0\n",
            "  ncurses            conda-forge/linux-64::ncurses-6.3-h27087fc_1\n",
            "  openssl            conda-forge/linux-64::openssl-3.0.3-h166bdaf_0\n",
            "  pip                conda-forge/noarch::pip-22.1.1-pyhd8ed1ab_0\n",
            "  python             conda-forge/linux-64::python-3.7.12-hf930737_100_cpython\n",
            "  python_abi         conda-forge/linux-64::python_abi-3.7-2_cp37m\n",
            "  readline           conda-forge/linux-64::readline-8.1-h46c0cb4_0\n",
            "  setuptools         conda-forge/linux-64::setuptools-62.3.2-py37h89c1867_0\n",
            "  sqlite             conda-forge/linux-64::sqlite-3.38.5-h4ff8645_0\n",
            "  tk                 conda-forge/linux-64::tk-8.6.12-h27826a3_0\n",
            "  wheel              conda-forge/noarch::wheel-0.37.1-pyhd8ed1ab_0\n",
            "  xz                 conda-forge/linux-64::xz-5.2.5-h516909a_1\n",
            "  zlib               conda-forge/linux-64::zlib-1.2.12-h166bdaf_0\n",
            "\n",
            "\n",
            "Preparing transaction: / \b\b- \b\b\\ \b\bdone\n",
            "Verifying transaction: / \b\b- \b\b\\ \b\b| \b\b/ \b\b- \b\b\\ \b\b| \b\b/ \b\b- \b\b\\ \b\b| \b\b/ \b\b- \b\b\\ \b\b| \b\bdone\n",
            "Executing transaction: - \b\b\\ \b\b| \b\b/ \b\b- \b\b\\ \b\b| \b\b/ \b\b- \b\b\\ \b\b| \b\b/ \b\b- \b\b\\ \b\b| \b\b/ \b\b- \b\b\\ \b\b| \b\bdone\n",
            "#\n",
            "# To activate this environment, use\n",
            "#\n",
            "#     $ conda activate OpenChem\n",
            "#\n",
            "# To deactivate an active environment, use\n",
            "#\n",
            "#     $ conda deactivate\n",
            "\n"
          ]
        }
      ],
      "source": [
        "!conda create --name OpenChem python=3.7"
      ]
    },
    {
      "cell_type": "code",
      "execution_count": 3,
      "metadata": {
        "id": "D8sRwoIibUPq"
      },
      "outputs": [],
      "source": [
        "%%bash\n",
        "source activate OpenChem"
      ]
    },
    {
      "cell_type": "code",
      "source": [
        "!source activate OpenChem && conda env list"
      ],
      "metadata": {
        "colab": {
          "base_uri": "https://localhost:8080/"
        },
        "id": "trEK_HfMjJpI",
        "outputId": "2bc9e0ff-07ef-4fe5-c5fd-b6719fce5dfa"
      },
      "execution_count": 4,
      "outputs": [
        {
          "output_type": "stream",
          "name": "stdout",
          "text": [
            "# conda environments:\n",
            "#\n",
            "base                     /usr/local\n",
            "OpenChem              *  /usr/local/envs/OpenChem\n",
            "\n"
          ]
        }
      ]
    },
    {
      "cell_type": "code",
      "execution_count": 5,
      "metadata": {
        "colab": {
          "base_uri": "https://localhost:8080/"
        },
        "id": "4PoRXMM9bhzC",
        "outputId": "c5fb413e-b79d-4195-bdc3-9c55addaaa8b"
      },
      "outputs": [
        {
          "output_type": "stream",
          "name": "stdout",
          "text": [
            "Python version\n",
            "3.7.13 (default, Apr 24 2022, 01:04:09) \n",
            "[GCC 7.5.0]\n"
          ]
        }
      ],
      "source": [
        "import sys\n",
        "print(\"Python version\")\n",
        "print (sys.version)"
      ]
    },
    {
      "cell_type": "code",
      "execution_count": 6,
      "metadata": {
        "colab": {
          "base_uri": "https://localhost:8080/"
        },
        "id": "QSZO_O3kbqgA",
        "outputId": "44a366e4-b9aa-461a-8c2e-d69684808819"
      },
      "outputs": [
        {
          "output_type": "stream",
          "name": "stdout",
          "text": [
            "\n",
            "CondaFileIOError: 'requirements.txt'. [Errno 2] No such file or directory: 'requirements.txt'\n",
            "\n"
          ]
        }
      ],
      "source": [
        "!conda install --yes --file requirements.txt"
      ]
    },
    {
      "cell_type": "code",
      "execution_count": 7,
      "metadata": {
        "colab": {
          "base_uri": "https://localhost:8080/"
        },
        "id": "mAf5BAQFdCsw",
        "outputId": "3f454d84-2437-4b67-ac07-692dbea64960"
      },
      "outputs": [
        {
          "output_type": "stream",
          "name": "stdout",
          "text": [
            "Collecting package metadata (current_repodata.json): - \b\b\\ \b\b| \b\b/ \b\b- \b\b\\ \b\b| \b\b/ \b\b- \b\b\\ \b\b| \b\b/ \b\b- \b\b\\ \b\b| \b\b/ \b\b- \b\b\\ \b\b| \b\bdone\n",
            "Solving environment: - \b\bfailed with initial frozen solve. Retrying with flexible solve.\n",
            "Collecting package metadata (repodata.json): | \b\b/ \b\b- \b\b\\ \b\b| \b\b/ \b\b- \b\b\\ \b\b| \b\b/ \b\b- \b\b\\ \b\b| \b\b/ \b\b- \b\b\\ \b\b| \b\b/ \b\b- \b\b\\ \b\b| \b\b/ \b\b- \b\b\\ \b\b| \b\b/ \b\b- \b\b\\ \b\b| \b\b/ \b\b- \b\b\\ \b\b| \b\b/ \b\b- \b\b\\ \b\b| \b\b/ \b\b- \b\b\\ \b\b| \b\b/ \b\b- \b\b\\ \b\b| \b\b/ \b\b- \b\b\\ \b\b| \b\b/ \b\b- \b\b\\ \b\b| \b\b/ \b\b- \b\b\\ \b\b| \b\b/ \b\b- \b\b\\ \b\b| \b\b/ \b\b- \b\b\\ \b\b| \b\b/ \b\b- \b\b\\ \b\b| \b\b/ \b\b- \b\b\\ \b\b| \b\b/ \b\b- \b\b\\ \b\b| \b\b/ \b\b- \b\b\\ \b\b| \b\b/ \b\b- \b\b\\ \b\b| \b\b/ \b\b- \b\b\\ \b\b| \b\b/ \b\b- \b\b\\ \b\b| \b\b/ \b\b- \b\b\\ \b\b| \b\b/ \b\b- \b\b\\ \b\b| \b\b/ \b\b- \b\b\\ \b\b| \b\b/ \b\b- \b\b\\ \b\b| \b\b/ \b\b- \b\b\\ \b\b| \b\b/ \b\b- \b\b\\ \b\b| \b\b/ \b\b- \b\b\\ \b\b| \b\b/ \b\b- \b\b\\ \b\b| \b\b/ \b\b- \b\b\\ \b\b| \b\b/ \b\b- \b\b\\ \b\b| \b\b/ \b\b- \b\b\\ \b\b| \b\b/ \b\b- \b\b\\ \b\b| \b\b/ \b\b- \b\b\\ \b\b| \b\b/ \b\b- \b\b\\ \b\b| \b\b/ \b\b- \b\b\\ \b\b| \b\b/ \b\b- \b\b\\ \b\b| \b\b/ \b\b- \b\b\\ \b\b| \b\b/ \b\b- \b\b\\ \b\b| \b\b/ \b\b- \b\b\\ \b\b| \b\b/ \b\b- \b\b\\ \b\b| \b\b/ \b\b- \b\b\\ \b\b| \b\b/ \b\b- \b\b\\ \b\b| \b\b/ \b\b- \b\b\\ \b\b| \b\b/ \b\b- \b\b\\ \b\b| \b\b/ \b\b- \b\b\\ \b\b| \b\b/ \b\b- \b\b\\ \b\b| \b\b/ \b\b- \b\b\\ \b\b| \b\b/ \b\b- \b\b\\ \b\b| \b\b/ \b\b- \b\b\\ \b\b| \b\b/ \b\b- \b\b\\ \b\b| \b\b/ \b\b- \b\b\\ \b\b| \b\b/ \b\b- \b\b\\ \b\b| \b\b/ \b\b- \b\b\\ \b\b| \b\b/ \b\b- \b\b\\ \b\b| \b\b/ \b\b- \b\b\\ \b\b| \b\b/ \b\b- \b\b\\ \b\b| \b\b/ \b\b- \b\b\\ \b\b| \b\b/ \b\b- \b\b\\ \b\b| \b\b/ \b\b- \b\b\\ \b\b| \b\b/ \b\b- \b\b\\ \b\b| \b\b/ \b\b- \b\b\\ \b\b| \b\b/ \b\b- \b\b\\ \b\b| \b\b/ \b\b- \b\b\\ \b\b| \b\b/ \b\b- \b\b\\ \b\b| \b\b/ \b\b- \b\b\\ \b\b| \b\b/ \b\b- \b\b\\ \b\b| \b\b/ \b\b- \b\b\\ \b\b| \b\b/ \b\b- \b\b\\ \b\b| \b\b/ \b\b- \b\b\\ \b\b| \b\b/ \b\b- \b\b\\ \b\b| \b\b/ \b\b- \b\b\\ \b\b| \b\b/ \b\b- \b\b\\ \b\b| \b\b/ \b\b- \b\b\\ \b\b| \b\b/ \b\b- \b\b\\ \b\b| \b\b/ \b\b- \b\b\\ \b\b| \b\b/ \b\b- \b\b\\ \b\b| \b\b/ \b\b- \b\b\\ \b\b| \b\b/ \b\b- \b\b\\ \b\b| \b\b/ \b\b- \b\b\\ \b\b| \b\b/ \b\b- \b\b\\ \b\b| \b\b/ \b\b- \b\b\\ \b\b| \b\b/ \b\b- \b\b\\ \b\b| \b\b/ \b\b- \b\b\\ \b\b| \b\b/ \b\b- \b\b\\ \b\b| \b\b/ \b\b- \b\b\\ \b\b| \b\b/ \b\b- \b\b\\ \b\b| \b\b/ \b\b- \b\b\\ \b\b| \b\bdone\n",
            "Solving environment: - \b\b\\ \b\b| \b\b/ \b\b- \b\b\\ \b\b| \b\b/ \b\b- \b\b\\ \b\b| \b\b/ \b\b- \b\b\\ \b\b| \b\b/ \b\b- \b\b\\ \b\b| \b\b/ \b\b- \b\b\\ \b\b| \b\b/ \b\b- \b\b\\ \b\b| \b\b/ \b\b- \b\b\\ \b\b| \b\b/ \b\b- \b\b\\ \b\b| \b\b/ \b\b- \b\b\\ \b\b| \b\b/ \b\b- \b\b\\ \b\b| \b\b/ \b\b- \b\b\\ \b\b| \b\b/ \b\b- \b\b\\ \b\b| \b\b/ \b\b- \b\b\\ \b\b| \b\b/ \b\b- \b\b\\ \b\b| \b\b/ \b\b- \b\b\\ \b\b| \b\b/ \b\b- \b\b\\ \b\b| \b\b/ \b\b- \b\b\\ \b\b| \b\b/ \b\b- \b\b\\ \b\b| \b\b/ \b\b- \b\bdone\n",
            "\n",
            "## Package Plan ##\n",
            "\n",
            "  environment location: /usr/local\n",
            "\n",
            "  added / updated specs:\n",
            "    - rdkit==2020.03.6\n",
            "\n",
            "\n",
            "The following packages will be downloaded:\n",
            "\n",
            "    package                    |            build\n",
            "    ---------------------------|-----------------\n",
            "    boost-1.74.0               |   py37h6dcda5c_3         342 KB  conda-forge\n",
            "    boost-cpp-1.74.0           |       hc6e9bd1_3        16.3 MB  conda-forge\n",
            "    cairo-1.16.0               |    h6cf1ce9_1008         1.5 MB  conda-forge\n",
            "    fontconfig-2.13.1          |    hba837de_1005         357 KB  conda-forge\n",
            "    freetype-2.10.4            |       h0708190_1         890 KB  conda-forge\n",
            "    gettext-0.19.8.1           |    h0b5b191_1005         3.6 MB  conda-forge\n",
            "    jpeg-9e                    |       h166bdaf_1         268 KB  conda-forge\n",
            "    lcms2-2.12                 |       hddcbb42_0         443 KB  conda-forge\n",
            "    libglib-2.68.3             |       h3e27bee_0         3.1 MB  conda-forge\n",
            "    libpng-1.6.37              |       h21135ba_2         306 KB  conda-forge\n",
            "    libtiff-4.2.0              |       hbd63e13_2         639 KB  conda-forge\n",
            "    libuuid-2.32.1             |    h7f98852_1000          28 KB  conda-forge\n",
            "    libwebp-base-1.2.2         |       h7f98852_1         824 KB  conda-forge\n",
            "    libxcb-1.13                |    h7f98852_1004         391 KB  conda-forge\n",
            "    olefile-0.46               |     pyh9f0ad1d_1          32 KB  conda-forge\n",
            "    openjpeg-2.4.0             |       hb52868f_1         444 KB  conda-forge\n",
            "    pandas-1.3.1               |   py37h219a48f_0        12.7 MB  conda-forge\n",
            "    pcre-8.45                  |       h9c3ff4c_0         253 KB  conda-forge\n",
            "    pillow-8.2.0               |   py37h4600e1f_1         684 KB  conda-forge\n",
            "    pixman-0.40.0              |       h36c2ea0_0         627 KB  conda-forge\n",
            "    pthread-stubs-0.4          |    h36c2ea0_1001           5 KB  conda-forge\n",
            "    pycairo-1.21.0             |   py37h0afab05_1         116 KB  conda-forge\n",
            "    python-dateutil-2.8.2      |     pyhd8ed1ab_0         240 KB  conda-forge\n",
            "    pytz-2022.1                |     pyhd8ed1ab_0         242 KB  conda-forge\n",
            "    rdkit-2020.03.6            |   py37h0c252aa_1        24.5 MB  conda-forge\n",
            "    xorg-kbproto-1.0.7         |    h7f98852_1002          27 KB  conda-forge\n",
            "    xorg-libice-1.0.10         |       h7f98852_0          58 KB  conda-forge\n",
            "    xorg-libsm-1.2.3           |    hd9c2040_1000          26 KB  conda-forge\n",
            "    xorg-libx11-1.7.2          |       h7f98852_0         941 KB  conda-forge\n",
            "    xorg-libxau-1.0.9          |       h7f98852_0          13 KB  conda-forge\n",
            "    xorg-libxdmcp-1.1.3        |       h7f98852_0          19 KB  conda-forge\n",
            "    xorg-libxext-1.3.4         |       h7f98852_1          54 KB  conda-forge\n",
            "    xorg-libxrender-0.9.10     |    h7f98852_1003          32 KB  conda-forge\n",
            "    xorg-renderproto-0.11.1    |    h7f98852_1002           9 KB  conda-forge\n",
            "    xorg-xextproto-7.3.0       |    h7f98852_1002          28 KB  conda-forge\n",
            "    xorg-xproto-7.0.31         |    h7f98852_1007          73 KB  conda-forge\n",
            "    ------------------------------------------------------------\n",
            "                                           Total:        69.9 MB\n",
            "\n",
            "The following NEW packages will be INSTALLED:\n",
            "\n",
            "  boost              conda-forge/linux-64::boost-1.74.0-py37h6dcda5c_3\n",
            "  boost-cpp          conda-forge/linux-64::boost-cpp-1.74.0-hc6e9bd1_3\n",
            "  cairo              conda-forge/linux-64::cairo-1.16.0-h6cf1ce9_1008\n",
            "  fontconfig         conda-forge/linux-64::fontconfig-2.13.1-hba837de_1005\n",
            "  freetype           conda-forge/linux-64::freetype-2.10.4-h0708190_1\n",
            "  gettext            conda-forge/linux-64::gettext-0.19.8.1-h0b5b191_1005\n",
            "  jpeg               conda-forge/linux-64::jpeg-9e-h166bdaf_1\n",
            "  lcms2              conda-forge/linux-64::lcms2-2.12-hddcbb42_0\n",
            "  libglib            conda-forge/linux-64::libglib-2.68.3-h3e27bee_0\n",
            "  libpng             conda-forge/linux-64::libpng-1.6.37-h21135ba_2\n",
            "  libtiff            conda-forge/linux-64::libtiff-4.2.0-hbd63e13_2\n",
            "  libuuid            conda-forge/linux-64::libuuid-2.32.1-h7f98852_1000\n",
            "  libwebp-base       conda-forge/linux-64::libwebp-base-1.2.2-h7f98852_1\n",
            "  libxcb             conda-forge/linux-64::libxcb-1.13-h7f98852_1004\n",
            "  olefile            conda-forge/noarch::olefile-0.46-pyh9f0ad1d_1\n",
            "  openjpeg           conda-forge/linux-64::openjpeg-2.4.0-hb52868f_1\n",
            "  pandas             conda-forge/linux-64::pandas-1.3.1-py37h219a48f_0\n",
            "  pcre               conda-forge/linux-64::pcre-8.45-h9c3ff4c_0\n",
            "  pillow             conda-forge/linux-64::pillow-8.2.0-py37h4600e1f_1\n",
            "  pixman             conda-forge/linux-64::pixman-0.40.0-h36c2ea0_0\n",
            "  pthread-stubs      conda-forge/linux-64::pthread-stubs-0.4-h36c2ea0_1001\n",
            "  pycairo            conda-forge/linux-64::pycairo-1.21.0-py37h0afab05_1\n",
            "  python-dateutil    conda-forge/noarch::python-dateutil-2.8.2-pyhd8ed1ab_0\n",
            "  pytz               conda-forge/noarch::pytz-2022.1-pyhd8ed1ab_0\n",
            "  rdkit              conda-forge/linux-64::rdkit-2020.03.6-py37h0c252aa_1\n",
            "  xorg-kbproto       conda-forge/linux-64::xorg-kbproto-1.0.7-h7f98852_1002\n",
            "  xorg-libice        conda-forge/linux-64::xorg-libice-1.0.10-h7f98852_0\n",
            "  xorg-libsm         conda-forge/linux-64::xorg-libsm-1.2.3-hd9c2040_1000\n",
            "  xorg-libx11        conda-forge/linux-64::xorg-libx11-1.7.2-h7f98852_0\n",
            "  xorg-libxau        conda-forge/linux-64::xorg-libxau-1.0.9-h7f98852_0\n",
            "  xorg-libxdmcp      conda-forge/linux-64::xorg-libxdmcp-1.1.3-h7f98852_0\n",
            "  xorg-libxext       conda-forge/linux-64::xorg-libxext-1.3.4-h7f98852_1\n",
            "  xorg-libxrender    conda-forge/linux-64::xorg-libxrender-0.9.10-h7f98852_1003\n",
            "  xorg-renderproto   conda-forge/linux-64::xorg-renderproto-0.11.1-h7f98852_1002\n",
            "  xorg-xextproto     conda-forge/linux-64::xorg-xextproto-7.3.0-h7f98852_1002\n",
            "  xorg-xproto        conda-forge/linux-64::xorg-xproto-7.0.31-h7f98852_1007\n",
            "\n",
            "\n",
            "\n",
            "Downloading and Extracting Packages\n",
            "lcms2-2.12           | 443 KB    | : 100% 1.0/1 [00:00<00:00,  5.67it/s]                \n",
            "libxcb-1.13          | 391 KB    | : 100% 1.0/1 [00:00<00:00,  7.78it/s]\n",
            "openjpeg-2.4.0       | 444 KB    | : 100% 1.0/1 [00:00<00:00,  9.63it/s]\n",
            "libuuid-2.32.1       | 28 KB     | : 100% 1.0/1 [00:00<00:00, 26.70it/s]\n",
            "xorg-xextproto-7.3.0 | 28 KB     | : 100% 1.0/1 [00:00<00:00, 24.85it/s]\n",
            "xorg-libsm-1.2.3     | 26 KB     | : 100% 1.0/1 [00:00<00:00, 27.05it/s]\n",
            "pytz-2022.1          | 242 KB    | : 100% 1.0/1 [00:00<00:00,  8.85it/s]\n",
            "jpeg-9e              | 268 KB    | : 100% 1.0/1 [00:00<00:00, 12.24it/s]\n",
            "pandas-1.3.1         | 12.7 MB   | : 100% 1.0/1 [00:02<00:00,  2.46s/it]              \n",
            "xorg-libice-1.0.10   | 58 KB     | : 100% 1.0/1 [00:00<00:00, 24.11it/s]\n",
            "boost-cpp-1.74.0     | 16.3 MB   | : 100% 1.0/1 [00:05<00:00,  5.15s/it]              \n",
            "cairo-1.16.0         | 1.5 MB    | : 100% 1.0/1 [00:00<00:00,  3.20it/s]\n",
            "xorg-renderproto-0.1 | 9 KB      | : 100% 1.0/1 [00:00<00:00, 30.14it/s]\n",
            "pillow-8.2.0         | 684 KB    | : 100% 1.0/1 [00:00<00:00,  6.58it/s]\n",
            "xorg-xproto-7.0.31   | 73 KB     | : 100% 1.0/1 [00:00<00:00, 20.80it/s]\n",
            "pycairo-1.21.0       | 116 KB    | : 100% 1.0/1 [00:00<00:00, 18.62it/s]\n",
            "xorg-libxau-1.0.9    | 13 KB     | : 100% 1.0/1 [00:00<00:00, 24.42it/s]\n",
            "xorg-libxrender-0.9. | 32 KB     | : 100% 1.0/1 [00:00<00:00, 29.11it/s]\n",
            "libwebp-base-1.2.2   | 824 KB    | : 100% 1.0/1 [00:00<00:00,  6.13it/s]\n",
            "libtiff-4.2.0        | 639 KB    | : 100% 1.0/1 [00:00<00:00,  7.18it/s]\n",
            "pixman-0.40.0        | 627 KB    | : 100% 1.0/1 [00:00<00:00,  8.23it/s]\n",
            "libglib-2.68.3       | 3.1 MB    | : 100% 1.0/1 [00:00<00:00,  1.73it/s]\n",
            "gettext-0.19.8.1     | 3.6 MB    | : 100% 1.0/1 [00:00<00:00,  1.16it/s]\n",
            "xorg-libxdmcp-1.1.3  | 19 KB     | : 100% 1.0/1 [00:00<00:00, 25.45it/s]\n",
            "xorg-kbproto-1.0.7   | 27 KB     | : 100% 1.0/1 [00:00<00:00, 26.57it/s]\n",
            "boost-1.74.0         | 342 KB    | : 100% 1.0/1 [00:00<00:00,  8.36it/s]\n",
            "olefile-0.46         | 32 KB     | : 100% 1.0/1 [00:00<00:00, 19.64it/s]\n",
            "libpng-1.6.37        | 306 KB    | : 100% 1.0/1 [00:00<00:00, 11.24it/s]\n",
            "pthread-stubs-0.4    | 5 KB      | : 100% 1.0/1 [00:00<00:00, 33.91it/s]\n",
            "python-dateutil-2.8. | 240 KB    | : 100% 1.0/1 [00:00<00:00, 15.17it/s]\n",
            "freetype-2.10.4      | 890 KB    | : 100% 1.0/1 [00:00<00:00,  5.94it/s]\n",
            "rdkit-2020.03.6      | 24.5 MB   | : 100% 1.0/1 [00:03<00:00,  3.64s/it]               \n",
            "fontconfig-2.13.1    | 357 KB    | : 100% 1.0/1 [00:00<00:00, 11.03it/s]\n",
            "xorg-libx11-1.7.2    | 941 KB    | : 100% 1.0/1 [00:00<00:00,  3.75it/s]\n",
            "xorg-libxext-1.3.4   | 54 KB     | : 100% 1.0/1 [00:00<00:00, 22.51it/s]\n",
            "pcre-8.45            | 253 KB    | : 100% 1.0/1 [00:00<00:00, 11.65it/s]\n",
            "Preparing transaction: | \b\b/ \b\b- \b\b\\ \b\b| \b\b/ \b\b- \b\bdone\n",
            "Verifying transaction: | \b\b/ \b\b- \b\b\\ \b\b| \b\b/ \b\b- \b\b\\ \b\b| \b\b/ \b\b- \b\b\\ \b\b| \b\b/ \b\b- \b\b\\ \b\b| \b\b/ \b\b- \b\b\\ \b\b| \b\b/ \b\bdone\n",
            "Executing transaction: \\ \b\b| \b\b/ \b\b- \b\b\\ \b\b| \b\b/ \b\b- \b\b\\ \b\b| \b\b/ \b\b- \b\b\\ \b\b| \b\b/ \b\b- \b\b\\ \b\b| \b\b/ \b\b- \b\b\\ \b\b| \b\b/ \b\b- \b\b\\ \b\b| \b\b/ \b\bdone\n"
          ]
        }
      ],
      "source": [
        "!conda install -c rdkit rdkit==2020.03.6 "
      ]
    },
    {
      "cell_type": "code",
      "execution_count": 8,
      "metadata": {
        "colab": {
          "base_uri": "https://localhost:8080/"
        },
        "id": "5NNH14o0dq9g",
        "outputId": "27d3ae64-1dde-4e00-a065-cc0306a62afc"
      },
      "outputs": [
        {
          "output_type": "stream",
          "name": "stdout",
          "text": [
            "Collecting package metadata (current_repodata.json): - \b\b\\ \b\b| \b\b/ \b\b- \b\b\\ \b\b| \b\b/ \b\b- \b\b\\ \b\b| \b\b/ \b\b- \b\b\\ \b\b| \b\b/ \b\b- \b\b\\ \b\b| \b\bdone\n",
            "Solving environment: - \b\b\\ \b\b| \b\b/ \b\b- \b\b\\ \b\b| \b\b/ \b\b- \b\b\\ \b\b| \b\b/ \b\b- \b\b\\ \b\b| \b\b/ \b\b- \b\b\\ \b\b| \b\b/ \b\b- \b\b\\ \b\bdone\n",
            "\n",
            "## Package Plan ##\n",
            "\n",
            "  environment location: /usr/local\n",
            "\n",
            "  added / updated specs:\n",
            "    - cairo\n",
            "    - nox\n",
            "\n",
            "\n",
            "The following packages will be downloaded:\n",
            "\n",
            "    package                    |            build\n",
            "    ---------------------------|-----------------\n",
            "    nox-1.0                    |       h3f329b5_0           2 KB  rdkit\n",
            "    ------------------------------------------------------------\n",
            "                                           Total:           2 KB\n",
            "\n",
            "The following NEW packages will be INSTALLED:\n",
            "\n",
            "  nox                rdkit/linux-64::nox-1.0-h3f329b5_0\n",
            "\n",
            "\n",
            "\n",
            "Downloading and Extracting Packages\n",
            "nox-1.0              | 2 KB      | : 100% 1.0/1 [00:00<00:00,  5.36it/s]\n",
            "Preparing transaction: / \b\bdone\n",
            "Verifying transaction: \\ \b\bdone\n",
            "Executing transaction: / \b\bdone\n"
          ]
        }
      ],
      "source": [
        "!conda install -c rdkit nox cairo"
      ]
    },
    {
      "cell_type": "code",
      "execution_count": 9,
      "metadata": {
        "colab": {
          "base_uri": "https://localhost:8080/"
        },
        "id": "luKDzpCibtm4",
        "outputId": "f2140aa9-333f-4b0f-b839-614271989579"
      },
      "outputs": [
        {
          "output_type": "stream",
          "name": "stdout",
          "text": [
            "Collecting package metadata (current_repodata.json): - \b\b\\ \b\b| \b\b/ \b\b- \b\b\\ \b\b| \b\b/ \b\b- \b\b\\ \b\b| \b\b/ \b\b- \b\b\\ \b\b| \b\b/ \b\b- \b\b\\ \b\b| \b\b/ \b\b- \b\b\\ \b\b| \b\bdone\n",
            "Solving environment: - \b\b\\ \b\b| \b\b/ \b\b- \b\b\\ \b\b| \b\b/ \b\b- \b\b\\ \b\b| \b\b/ \b\b- \b\b\\ \b\b| \b\b/ \b\b- \b\b\\ \b\b| \b\b/ \b\b- \b\b\\ \b\b| \b\b/ \b\b- \b\b\\ \b\b| \b\b/ \b\b- \b\b\\ \b\b| \b\b/ \b\b- \b\b\\ \b\b| \b\b/ \b\b- \b\b\\ \b\b| \b\b/ \b\b- \b\b\\ \b\b| \b\b/ \b\b- \b\b\\ \b\b| \b\b/ \b\b- \b\b\\ \b\b| \b\b/ \b\b- \b\b\\ \b\b| \b\b/ \b\b- \b\b\\ \b\b| \b\b/ \b\b- \b\b\\ \b\b| \b\b/ \b\b- \b\b\\ \b\b| \b\b/ \b\b- \b\b\\ \b\b| \b\b/ \b\b- \b\b\\ \b\b| \b\b/ \b\b- \b\b\\ \b\b| \b\b/ \b\b- \b\b\\ \b\b| \b\b/ \b\b- \b\b\\ \b\b| \b\b/ \b\b- \b\b\\ \b\b| \b\b/ \b\b- \b\b\\ \b\b| \b\b/ \b\b- \b\b\\ \b\b| \b\b/ \b\b- \b\b\\ \b\b| \b\b/ \b\b- \b\b\\ \b\b| \b\b/ \b\b- \b\b\\ \b\b| \b\b/ \b\b- \b\b\\ \b\b| \b\b/ \b\b- \b\b\\ \b\b| \b\b/ \b\b- \b\b\\ \b\b| \b\b/ \b\b- \b\b\\ \b\b| \b\b/ \b\b- \b\b\\ \b\b| \b\b/ \b\b- \b\b\\ \b\b| \b\b/ \b\b- \b\b\\ \b\bdone\n",
            "\n",
            "## Package Plan ##\n",
            "\n",
            "  environment location: /usr/local\n",
            "\n",
            "  added / updated specs:\n",
            "    - pytorch\n",
            "    - torchvision\n",
            "\n",
            "\n",
            "The following packages will be downloaded:\n",
            "\n",
            "    package                    |            build\n",
            "    ---------------------------|-----------------\n",
            "    cpuonly-1.0                |                0           2 KB  pytorch\n",
            "    cudatoolkit-11.1.1         |      ha002fc5_10        1.20 GB  conda-forge\n",
            "    ninja-1.11.0               |       h924138e_0         2.8 MB  conda-forge\n",
            "    pytorch-1.4.0              |      py3.7_cpu_0        39.0 MB  pytorch\n",
            "    torchvision-0.5.0          |         py37_cpu        10.6 MB  pytorch\n",
            "    ------------------------------------------------------------\n",
            "                                           Total:        1.26 GB\n",
            "\n",
            "The following NEW packages will be INSTALLED:\n",
            "\n",
            "  cpuonly            pytorch/noarch::cpuonly-1.0-0\n",
            "  cudatoolkit        conda-forge/linux-64::cudatoolkit-11.1.1-ha002fc5_10\n",
            "  ninja              conda-forge/linux-64::ninja-1.11.0-h924138e_0\n",
            "  pytorch            pytorch/linux-64::pytorch-1.4.0-py3.7_cpu_0\n",
            "  torchvision        pytorch/linux-64::torchvision-0.5.0-py37_cpu\n",
            "\n",
            "The following packages will be UPDATED:\n",
            "\n",
            "  libstdcxx-ng                            9.3.0-h6de172a_18 --> 12.1.0-ha89aaad_16\n",
            "\n",
            "\n",
            "\n",
            "Downloading and Extracting Packages\n",
            "torchvision-0.5.0    | 10.6 MB   | : 100% 1.0/1 [00:02<00:00,  2.45s/it]\n",
            "cpuonly-1.0          | 2 KB      | : 100% 1.0/1 [00:00<00:00,  4.53it/s]\n",
            "cudatoolkit-11.1.1   | 1.20 GB   | : 100% 1.0/1 [02:45<00:00, 165.18s/it] \n",
            "pytorch-1.4.0        | 39.0 MB   | : 100% 1.0/1 [00:09<00:00,  9.00s/it]               \n",
            "ninja-1.11.0         | 2.8 MB    | : 100% 1.0/1 [00:00<00:00,  2.31it/s]\n",
            "Preparing transaction: / \b\b- \b\bdone\n",
            "Verifying transaction: | \b\b/ \b\b- \b\b\\ \b\b| \b\bdone\n",
            "Executing transaction: - \b\b\\ \b\b| \b\b/ \b\b- \b\b\\ By downloading and using the CUDA Toolkit conda packages, you accept the terms and conditions of the CUDA End User License Agreement (EULA): https://docs.nvidia.com/cuda/eula/index.html\n",
            "\n",
            "\b\b| \b\bdone\n"
          ]
        }
      ],
      "source": [
        "!conda install pytorch torchvision -c pytorch"
      ]
    },
    {
      "cell_type": "code",
      "execution_count": null,
      "metadata": {
        "id": "X4N808j_cgaS"
      },
      "outputs": [],
      "source": [
        "from openchem.data.utils import read_smiles_property_file\n",
        "data = read_smiles_property_file('./benchmark_datasets/logp_dataset/logP_labels.csv', cols_to_read=[1, 2])\n",
        "smiles = data[0]\n",
        "labels = data[1]"
      ]
    },
    {
      "cell_type": "code",
      "execution_count": null,
      "metadata": {
        "id": "2-wiFUGXggvp"
      },
      "outputs": [],
      "source": [
        "import rdkit as rd"
      ]
    },
    {
      "cell_type": "code",
      "execution_count": null,
      "metadata": {
        "id": "H9ht4VmogvOg"
      },
      "outputs": [],
      "source": [
        "from openchem.utils.graph import Attribute\n",
        "from openchem.utils.utils import identity"
      ]
    },
    {
      "cell_type": "code",
      "execution_count": null,
      "metadata": {
        "id": "5URxbUd7gjXV"
      },
      "outputs": [],
      "source": [
        "node_attributes = {}\n",
        "node_attributes['valence'] = Attribute('node', 'valence', one_hot=True, values=[1, 2, 3, 4, 5, 6])\n",
        "node_attributes['charge'] = Attribute('node', 'charge', one_hot=True, values=[-1, 0, 1, 2, 3, 4])\n",
        "node_attributes['hybridization'] = Attribute('node', 'hybridization',\n",
        "                                             one_hot=True, values=[0, 1, 2, 3, 4, 5, 6, 7])\n",
        "node_attributes['aromatic'] = Attribute('node', 'aromatic', one_hot=True,\n",
        "                                        values=[0, 1])\n",
        "node_attributes['atom_element'] = Attribute('node', 'atom_element',\n",
        "                                            one_hot=True,\n",
        "                                            values=list(range(11)))"
      ]
    },
    {
      "cell_type": "code",
      "execution_count": null,
      "metadata": {
        "id": "yCjPMbCUglob"
      },
      "outputs": [],
      "source": [
        "def get_atomic_attributes(atom):\n",
        "  attr_dict = {}\n",
        "\n",
        "  atomic_num = atom.GetAtomicNum()\n",
        "  atomic_mapping = {5: 0, 7: 1, 6: 2, 8: 3, 9: 4, 15: 5, 16: 6, 17: 7, 35: 8,\n",
        "                    53: 9}\n",
        "  if atomic_num in atomic_mapping.keys():\n",
        "      attr_dict['atom_element'] = atomic_mapping[atomic_num]\n",
        "  else:\n",
        "      attr_dict['atom_element'] = 10\n",
        "  attr_dict['valence'] = atom.GetTotalValence()\n",
        "  attr_dict['charge'] = atom.GetFormalCharge()\n",
        "  attr_dict['hybridization'] = atom.GetHybridization().real\n",
        "  attr_dict['aromatic'] = int(atom.GetIsAromatic())\n",
        "  return attr_dict\n",
        "\n"
      ]
    },
    {
      "cell_type": "code",
      "execution_count": null,
      "metadata": {
        "id": "WRJE2LD4hFN5"
      },
      "outputs": [],
      "source": [
        "from sklearn.model_selection import train_test_split"
      ]
    },
    {
      "cell_type": "code",
      "execution_count": 1,
      "metadata": {
        "id": "I99MjbrJhO8R",
        "colab": {
          "base_uri": "https://localhost:8080/",
          "height": 304
        },
        "outputId": "b1b80a1a-90ff-4d0e-f3d7-33a81088c398"
      },
      "outputs": [
        {
          "output_type": "error",
          "ename": "ModuleNotFoundError",
          "evalue": "ignored",
          "traceback": [
            "\u001b[0;31m---------------------------------------------------------------------------\u001b[0m",
            "\u001b[0;31mModuleNotFoundError\u001b[0m                       Traceback (most recent call last)",
            "\u001b[0;32m<ipython-input-1-62a1fe9cf539>\u001b[0m in \u001b[0;36m<module>\u001b[0;34m()\u001b[0m\n\u001b[0;32m----> 1\u001b[0;31m \u001b[0;32mfrom\u001b[0m \u001b[0mopenchem\u001b[0m\u001b[0;34m.\u001b[0m\u001b[0mdata\u001b[0m\u001b[0;34m.\u001b[0m\u001b[0mutils\u001b[0m \u001b[0;32mimport\u001b[0m \u001b[0msave_smiles_property_file\u001b[0m\u001b[0;34m\u001b[0m\u001b[0;34m\u001b[0m\u001b[0m\n\u001b[0m",
            "\u001b[0;31mModuleNotFoundError\u001b[0m: No module named 'openchem'",
            "",
            "\u001b[0;31m---------------------------------------------------------------------------\u001b[0;32m\nNOTE: If your import is failing due to a missing package, you can\nmanually install dependencies using either !pip or !apt.\n\nTo view examples of installing some common dependencies, click the\n\"Open Examples\" button below.\n\u001b[0;31m---------------------------------------------------------------------------\u001b[0m\n"
          ],
          "errorDetails": {
            "actions": [
              {
                "action": "open_url",
                "actionText": "Open Examples",
                "url": "/notebooks/snippets/importing_libraries.ipynb"
              }
            ]
          }
        }
      ],
      "source": [
        "from openchem.data.utils import save_smiles_property_file"
      ]
    },
    {
      "cell_type": "code",
      "execution_count": null,
      "metadata": {
        "id": "dAqbuiZkhgC4"
      },
      "outputs": [],
      "source": [
        "import numpy as np"
      ]
    },
    {
      "cell_type": "code",
      "execution_count": null,
      "metadata": {
        "id": "liIflqM0heOX"
      },
      "outputs": [],
      "source": [
        "smiles = data[0]\n",
        "labels = np.array(data[1:])\n",
        "labels = labels.T"
      ]
    },
    {
      "cell_type": "code",
      "execution_count": null,
      "metadata": {
        "id": "T0JazANKg2Pp"
      },
      "outputs": [],
      "source": [
        "X_train, X_test, y_train, y_test = train_test_split(smiles, labels, test_size=0.2,\n",
        "                                                    random_state=42)\n",
        "save_smiles_property_file('./benchmark_datasets/logp_dataset/train.smi', X_train, y_train)\n",
        "save_smiles_property_file('./benchmark_datasets/logp_dataset/test.smi', X_test, y_test)"
      ]
    },
    {
      "cell_type": "code",
      "execution_count": 10,
      "metadata": {
        "colab": {
          "base_uri": "https://localhost:8080/"
        },
        "id": "2Scs_Mi1iPAh",
        "outputId": "6940562e-5406-4f21-fe0c-31f0ad30e8d9"
      },
      "outputs": [
        {
          "output_type": "stream",
          "name": "stdout",
          "text": [
            "Looking in indexes: https://pypi.org/simple, https://us-python.pkg.dev/colab-wheels/public/simple/\n",
            "Collecting tb-nightly\n",
            "  Downloading tb_nightly-2.10.0a20220530-py3-none-any.whl (5.8 MB)\n",
            "\u001b[K     |████████████████████████████████| 5.8 MB 8.3 MB/s \n",
            "\u001b[?25hCollecting tensorboard-data-server<0.7.0,>=0.6.0\n",
            "  Downloading tensorboard_data_server-0.6.1-py3-none-manylinux2010_x86_64.whl (4.9 MB)\n",
            "\u001b[K     |████████████████████████████████| 4.9 MB 45.5 MB/s \n",
            "\u001b[?25hCollecting absl-py>=0.4\n",
            "  Downloading absl_py-1.0.0-py3-none-any.whl (126 kB)\n",
            "\u001b[K     |████████████████████████████████| 126 kB 78.6 MB/s \n",
            "\u001b[?25hCollecting markdown>=2.6.8\n",
            "  Downloading Markdown-3.3.7-py3-none-any.whl (97 kB)\n",
            "\u001b[K     |████████████████████████████████| 97 kB 10.4 MB/s \n",
            "\u001b[?25hRequirement already satisfied: numpy>=1.12.0 in /usr/local/lib/python3.7/site-packages (from tb-nightly) (1.20.3)\n",
            "Collecting google-auth-oauthlib<0.5,>=0.4.1\n",
            "  Downloading google_auth_oauthlib-0.4.6-py2.py3-none-any.whl (18 kB)\n",
            "Collecting tensorboard-plugin-wit>=1.6.0\n",
            "  Downloading tensorboard_plugin_wit-1.8.1-py3-none-any.whl (781 kB)\n",
            "\u001b[K     |████████████████████████████████| 781 kB 62.3 MB/s \n",
            "\u001b[?25hCollecting werkzeug>=1.0.1\n",
            "  Downloading Werkzeug-2.1.2-py3-none-any.whl (224 kB)\n",
            "\u001b[K     |████████████████████████████████| 224 kB 72.7 MB/s \n",
            "\u001b[?25hCollecting grpcio>=1.24.3\n",
            "  Downloading grpcio-1.46.3-cp37-cp37m-manylinux_2_17_x86_64.manylinux2014_x86_64.whl (4.4 MB)\n",
            "\u001b[K     |████████████████████████████████| 4.4 MB 51.0 MB/s \n",
            "\u001b[?25hRequirement already satisfied: requests<3,>=2.21.0 in /usr/local/lib/python3.7/site-packages (from tb-nightly) (2.25.1)\n",
            "Collecting google-auth<3,>=1.6.3\n",
            "  Downloading google_auth-2.6.6-py2.py3-none-any.whl (156 kB)\n",
            "\u001b[K     |████████████████████████████████| 156 kB 71.0 MB/s \n",
            "\u001b[?25hRequirement already satisfied: wheel>=0.26 in /usr/local/lib/python3.7/site-packages (from tb-nightly) (0.36.2)\n",
            "Collecting protobuf<3.20,>=3.9.2\n",
            "  Downloading protobuf-3.19.4-cp37-cp37m-manylinux_2_17_x86_64.manylinux2014_x86_64.whl (1.1 MB)\n",
            "\u001b[K     |████████████████████████████████| 1.1 MB 62.6 MB/s \n",
            "\u001b[?25hRequirement already satisfied: setuptools>=41.0.0 in /usr/local/lib/python3.7/site-packages (from tb-nightly) (49.6.0.post20210108)\n",
            "Requirement already satisfied: six in /usr/local/lib/python3.7/site-packages (from absl-py>=0.4->tb-nightly) (1.16.0)\n",
            "Collecting pyasn1-modules>=0.2.1\n",
            "  Downloading pyasn1_modules-0.2.8-py2.py3-none-any.whl (155 kB)\n",
            "\u001b[K     |████████████████████████████████| 155 kB 76.2 MB/s \n",
            "\u001b[?25hCollecting cachetools<6.0,>=2.0.0\n",
            "  Downloading cachetools-5.2.0-py3-none-any.whl (9.3 kB)\n",
            "Collecting rsa<5,>=3.1.4\n",
            "  Downloading rsa-4.8-py3-none-any.whl (39 kB)\n",
            "Collecting requests-oauthlib>=0.7.0\n",
            "  Downloading requests_oauthlib-1.3.1-py2.py3-none-any.whl (23 kB)\n",
            "Requirement already satisfied: importlib-metadata>=4.4 in /usr/local/lib/python3.7/site-packages (from markdown>=2.6.8->tb-nightly) (4.11.4)\n",
            "Requirement already satisfied: typing-extensions>=3.6.4 in /usr/local/lib/python3.7/site-packages (from importlib-metadata>=4.4->markdown>=2.6.8->tb-nightly) (4.2.0)\n",
            "Requirement already satisfied: zipp>=0.5 in /usr/local/lib/python3.7/site-packages (from importlib-metadata>=4.4->markdown>=2.6.8->tb-nightly) (3.8.0)\n",
            "Collecting pyasn1<0.5.0,>=0.4.6\n",
            "  Downloading pyasn1-0.4.8-py2.py3-none-any.whl (77 kB)\n",
            "\u001b[K     |████████████████████████████████| 77 kB 7.7 MB/s \n",
            "\u001b[?25hRequirement already satisfied: chardet<5,>=3.0.2 in /usr/local/lib/python3.7/site-packages (from requests<3,>=2.21.0->tb-nightly) (4.0.0)\n",
            "Requirement already satisfied: certifi>=2017.4.17 in /usr/local/lib/python3.7/site-packages (from requests<3,>=2.21.0->tb-nightly) (2022.5.18.1)\n",
            "Requirement already satisfied: idna<3,>=2.5 in /usr/local/lib/python3.7/site-packages (from requests<3,>=2.21.0->tb-nightly) (2.10)\n",
            "Requirement already satisfied: urllib3<1.27,>=1.21.1 in /usr/local/lib/python3.7/site-packages (from requests<3,>=2.21.0->tb-nightly) (1.26.3)\n",
            "Collecting oauthlib>=3.0.0\n",
            "  Downloading oauthlib-3.2.0-py3-none-any.whl (151 kB)\n",
            "\u001b[K     |████████████████████████████████| 151 kB 77.6 MB/s \n",
            "\u001b[?25hInstalling collected packages: pyasn1, rsa, pyasn1-modules, oauthlib, cachetools, requests-oauthlib, google-auth, werkzeug, tensorboard-plugin-wit, tensorboard-data-server, protobuf, markdown, grpcio, google-auth-oauthlib, absl-py, tb-nightly\n",
            "Successfully installed absl-py-1.0.0 cachetools-5.2.0 google-auth-2.6.6 google-auth-oauthlib-0.4.6 grpcio-1.46.3 markdown-3.3.7 oauthlib-3.2.0 protobuf-3.19.4 pyasn1-0.4.8 pyasn1-modules-0.2.8 requests-oauthlib-1.3.1 rsa-4.8 tb-nightly-2.10.0a20220530 tensorboard-data-server-0.6.1 tensorboard-plugin-wit-1.8.1 werkzeug-2.1.2\n",
            "Looking in indexes: https://pypi.org/simple, https://us-python.pkg.dev/colab-wheels/public/simple/\n",
            "Collecting networkx\n",
            "  Downloading networkx-2.6.3-py3-none-any.whl (1.9 MB)\n",
            "\u001b[K     |████████████████████████████████| 1.9 MB 7.8 MB/s \n",
            "\u001b[?25hInstalling collected packages: networkx\n",
            "Successfully installed networkx-2.6.3\n",
            "Looking in indexes: https://pypi.org/simple, https://us-python.pkg.dev/colab-wheels/public/simple/\n",
            "Collecting torchani\n",
            "  Downloading torchani-2.2-py3-none-any.whl (10.8 MB)\n",
            "\u001b[K     |████████████████████████████████| 10.8 MB 7.8 MB/s \n",
            "\u001b[?25hRequirement already satisfied: requests in /usr/local/lib/python3.7/site-packages (from torchani) (2.25.1)\n",
            "Collecting lark-parser\n",
            "  Downloading lark_parser-0.12.0-py2.py3-none-any.whl (103 kB)\n",
            "\u001b[K     |████████████████████████████████| 103 kB 67.7 MB/s \n",
            "\u001b[?25hRequirement already satisfied: torch in /usr/local/lib/python3.7/site-packages (from torchani) (1.4.0)\n",
            "Requirement already satisfied: idna<3,>=2.5 in /usr/local/lib/python3.7/site-packages (from requests->torchani) (2.10)\n",
            "Requirement already satisfied: chardet<5,>=3.0.2 in /usr/local/lib/python3.7/site-packages (from requests->torchani) (4.0.0)\n",
            "Requirement already satisfied: certifi>=2017.4.17 in /usr/local/lib/python3.7/site-packages (from requests->torchani) (2022.5.18.1)\n",
            "Requirement already satisfied: urllib3<1.27,>=1.21.1 in /usr/local/lib/python3.7/site-packages (from requests->torchani) (1.26.3)\n",
            "Installing collected packages: lark-parser, torchani\n",
            "Successfully installed lark-parser-0.12.0 torchani-2.2\n"
          ]
        }
      ],
      "source": [
        "!pip install tb-nightly\n",
        "!pip install networkx\n",
        "!pip install torchani"
      ]
    },
    {
      "cell_type": "code",
      "source": [
        "%cd OpenChem"
      ],
      "metadata": {
        "colab": {
          "base_uri": "https://localhost:8080/"
        },
        "id": "r0Gtn4yGAaVs",
        "outputId": "c20a6986-ae00-45ee-9844-59496be26669"
      },
      "execution_count": 12,
      "outputs": [
        {
          "output_type": "stream",
          "name": "stdout",
          "text": [
            "/content/OpenChem\n"
          ]
        }
      ]
    },
    {
      "cell_type": "code",
      "execution_count": 13,
      "metadata": {
        "colab": {
          "base_uri": "https://localhost:8080/"
        },
        "id": "0O8TKx0nhpUs",
        "outputId": "75179b0f-4e99-4598-f99f-5bcee01b1055"
      },
      "outputs": [
        {
          "output_type": "stream",
          "name": "stdout",
          "text": [
            "/content/OpenChem/openchem/data/utils.py:186: UserWarning: 1230/11339 unsanitized smiles (10.8%)\n",
            "  warnings.warn('{:d}/{:d} unsanitized smiles ({:.1f}%)'.format(num_bad, len(smiles), 100 * invalid_rate))\n",
            "/content/OpenChem/openchem/data/utils.py:186: UserWarning: 300/2835 unsanitized smiles (10.6%)\n",
            "  warnings.warn('{:d}/{:d} unsanitized smiles ({:.1f}%)'.format(num_bad, len(smiles), 100 * invalid_rate))\n",
            "Directory logs/logp_gcnn_logs created\n",
            "Directory logs/logp_gcnn_logs/checkpoint created\n",
            "2022-05-31 07:26:09,369 openchem INFO: Running on 1 GPUs\n",
            "2022-05-31 07:26:09,370 openchem INFO: Logging directory is set to logs/logp_gcnn_logs\n",
            "2022-05-31 07:26:09,370 openchem INFO: Running with config:\n",
            "batch_size:                                       256\n",
            "encoder_params/encoder_dim:                       128\n",
            "encoder_params/input_size:                        33\n",
            "encoder_params/n_layers:                          5\n",
            "logdir:                                           logs/logp_gcnn_logs\n",
            "lr_scheduler_params/gamma:                        0.8\n",
            "lr_scheduler_params/step_size:                    15\n",
            "mlp_params/input_size:                            128\n",
            "mlp_params/n_layers:                              2\n",
            "num_epochs:                                       10\n",
            "optimizer_params/lr:                              0.0005\n",
            "print_every:                                      10\n",
            "random_seed:                                      42\n",
            "save_every:                                       5\n",
            "task:                                             regression\n",
            "use_clip_grad:                                    False\n",
            "use_cuda:                                         False\n",
            "\n",
            "2022-05-31 07:26:09,438 openchem INFO: Starting training from scratch\n",
            "2022-05-31 07:26:09,438 openchem INFO: Training is set up from epoch 0\n",
            "  0% 0/10 [00:00<?, ?it/s]\n",
            "  0% 0/40 [00:00<?, ?it/s]\u001b[A\n",
            "  2% 1/40 [00:22<14:20, 22.07s/it]\u001b[A\n",
            "  5% 2/40 [00:42<13:25, 21.21s/it]\u001b[A\n",
            "  8% 3/40 [01:03<12:56, 20.99s/it]\u001b[A\n",
            " 10% 4/40 [01:24<12:30, 20.84s/it]\u001b[A\n",
            " 12% 5/40 [01:44<12:06, 20.75s/it]\u001b[A\n",
            " 15% 6/40 [02:05<11:43, 20.68s/it]\u001b[A\n",
            " 18% 7/40 [02:25<11:21, 20.64s/it]\u001b[A\n",
            " 20% 8/40 [02:46<11:00, 20.65s/it]\u001b[A\n",
            " 22% 9/40 [03:06<10:39, 20.63s/it]\u001b[A\n",
            " 25% 10/40 [03:27<10:18, 20.63s/it]\u001b[A\n",
            " 28% 11/40 [03:48<10:03, 20.81s/it]\u001b[A\n",
            " 30% 12/40 [04:09<09:40, 20.74s/it]\u001b[A\n",
            " 32% 13/40 [04:30<09:18, 20.70s/it]\u001b[A\n",
            " 35% 14/40 [04:50<08:56, 20.65s/it]\u001b[A\n",
            " 38% 15/40 [05:11<08:35, 20.61s/it]\u001b[A\n",
            " 40% 16/40 [05:31<08:14, 20.59s/it]\u001b[A\n",
            " 42% 17/40 [05:52<07:52, 20.55s/it]\u001b[A\n",
            " 45% 18/40 [06:12<07:31, 20.53s/it]\u001b[A\n",
            " 48% 19/40 [06:33<07:10, 20.51s/it]\u001b[A\n",
            " 50% 20/40 [06:53<06:50, 20.55s/it]\u001b[A\n",
            " 52% 21/40 [07:14<06:30, 20.54s/it]\u001b[A\n",
            " 55% 22/40 [07:34<06:09, 20.55s/it]\u001b[A\n",
            " 57% 23/40 [07:55<05:49, 20.54s/it]\u001b[A\n",
            " 60% 24/40 [08:15<05:28, 20.55s/it]\u001b[A\n",
            " 62% 25/40 [08:36<05:07, 20.52s/it]\u001b[A\n",
            " 65% 26/40 [08:56<04:46, 20.50s/it]\u001b[A\n",
            " 68% 27/40 [09:17<04:26, 20.52s/it]\u001b[A\n",
            " 70% 28/40 [09:37<04:06, 20.54s/it]\u001b[A\n",
            " 72% 29/40 [09:58<03:47, 20.71s/it]\u001b[A\n",
            " 75% 30/40 [10:19<03:26, 20.66s/it]\u001b[A\n",
            " 78% 31/40 [10:40<03:05, 20.61s/it]\u001b[A\n",
            " 80% 32/40 [11:00<02:44, 20.59s/it]\u001b[A\n",
            " 82% 33/40 [11:21<02:24, 20.59s/it]\u001b[A\n",
            " 85% 34/40 [11:41<02:03, 20.56s/it]\u001b[A\n",
            " 88% 35/40 [12:02<01:42, 20.56s/it]\u001b[A\n",
            " 90% 36/40 [12:22<01:22, 20.56s/it]\u001b[A\n",
            " 92% 37/40 [12:43<01:01, 20.53s/it]\u001b[A\n",
            " 95% 38/40 [13:03<00:41, 20.52s/it]\u001b[A\n",
            " 98% 39/40 [13:24<00:20, 20.50s/it]\u001b[A\n",
            "100% 40/40 [13:33<00:00, 20.35s/it]\n",
            "2022-05-31 07:39:43,252 openchem.fit INFO: TRAINING: [Time: 13m 33s, Epoch: 0, Progress: 0%, Loss: 5.0431]\n",
            "2022-05-31 07:41:06,682 openchem.evaluate INFO: EVALUATION: [Time: 1m 23s, Loss: 2.7117, Metrics: 0.2198]\n",
            "2022-05-31 07:41:06,872 openchem.fit WARNING: Warning: module/MLP/layers/1/bias has zero variance (i.e. constant vector)\n",
            "WARNING:openchem.fit:Warning: module/MLP/layers/1/bias has zero variance (i.e. constant vector)\n",
            " 10% 1/10 [14:57<2:14:37, 897.46s/it]\n",
            "  0% 0/40 [00:00<?, ?it/s]\u001b[A\n",
            "  2% 1/40 [00:20<13:20, 20.52s/it]\u001b[A\n",
            "  5% 2/40 [00:40<12:57, 20.46s/it]\u001b[A\n",
            "  8% 3/40 [01:01<12:40, 20.54s/it]\u001b[A\n",
            " 10% 4/40 [01:22<12:25, 20.70s/it]\u001b[A\n",
            " 12% 5/40 [01:42<12:00, 20.59s/it]\u001b[A\n",
            " 15% 6/40 [02:03<11:39, 20.56s/it]\u001b[A\n",
            " 18% 7/40 [02:23<11:17, 20.52s/it]\u001b[A\n",
            " 20% 8/40 [02:44<10:55, 20.50s/it]\u001b[A\n",
            " 22% 9/40 [03:04<10:34, 20.47s/it]\u001b[A\n",
            " 25% 10/40 [03:25<10:13, 20.45s/it]\u001b[A\n",
            " 28% 11/40 [03:45<09:53, 20.45s/it]\u001b[A\n",
            " 30% 12/40 [04:06<09:33, 20.47s/it]\u001b[A\n",
            " 32% 13/40 [04:26<09:13, 20.49s/it]\u001b[A\n",
            " 35% 14/40 [04:47<08:54, 20.57s/it]\u001b[A\n",
            " 38% 15/40 [05:08<08:36, 20.67s/it]\u001b[A\n",
            " 40% 16/40 [05:28<08:15, 20.64s/it]\u001b[A\n",
            " 42% 17/40 [05:49<07:53, 20.60s/it]\u001b[A\n",
            " 45% 18/40 [06:09<07:32, 20.56s/it]\u001b[A\n",
            " 48% 19/40 [06:30<07:11, 20.56s/it]\u001b[A\n",
            " 50% 20/40 [06:51<06:52, 20.60s/it]\u001b[A\n",
            " 52% 21/40 [07:11<06:31, 20.59s/it]\u001b[A\n",
            " 55% 22/40 [07:32<06:14, 20.81s/it]\u001b[A\n",
            " 57% 23/40 [07:53<05:53, 20.77s/it]\u001b[A\n",
            " 60% 24/40 [08:14<05:31, 20.70s/it]\u001b[A\n",
            " 62% 25/40 [08:34<05:09, 20.64s/it]\u001b[A\n",
            " 65% 26/40 [08:55<04:48, 20.58s/it]\u001b[A\n",
            " 68% 27/40 [09:15<04:27, 20.58s/it]\u001b[A\n",
            " 70% 28/40 [09:36<04:06, 20.55s/it]\u001b[A\n",
            " 72% 29/40 [09:56<03:46, 20.55s/it]\u001b[A\n",
            " 75% 30/40 [10:17<03:25, 20.51s/it]\u001b[A\n",
            " 78% 31/40 [10:37<03:04, 20.52s/it]\u001b[A\n",
            " 80% 32/40 [10:58<02:43, 20.49s/it]\u001b[A\n",
            " 82% 33/40 [11:18<02:23, 20.50s/it]\u001b[A\n",
            " 85% 34/40 [11:39<02:02, 20.47s/it]\u001b[A\n",
            " 88% 35/40 [11:59<01:42, 20.46s/it]\u001b[A\n",
            " 90% 36/40 [12:19<01:21, 20.47s/it]\u001b[A\n",
            " 92% 37/40 [12:40<01:01, 20.48s/it]\u001b[A\n",
            " 95% 38/40 [13:01<00:41, 20.53s/it]\u001b[A\n",
            " 98% 39/40 [13:21<00:20, 20.57s/it]\u001b[A\n",
            "100% 40/40 [13:31<00:00, 20.29s/it]\n",
            " 20% 2/10 [28:28<1:52:55, 846.91s/it]\n",
            "  0% 0/40 [00:00<?, ?it/s]\u001b[A\n",
            "  2% 1/40 [00:21<13:45, 21.16s/it]\u001b[A\n",
            "  5% 2/40 [00:41<13:09, 20.77s/it]\u001b[A\n",
            "  8% 3/40 [01:02<12:46, 20.72s/it]\u001b[A\n",
            " 10% 4/40 [01:23<12:25, 20.71s/it]\u001b[A\n",
            " 12% 5/40 [01:43<12:07, 20.78s/it]\u001b[A\n",
            " 15% 6/40 [02:04<11:44, 20.73s/it]\u001b[A\n",
            " 18% 7/40 [02:25<11:21, 20.65s/it]\u001b[A\n",
            " 20% 8/40 [02:45<10:58, 20.57s/it]\u001b[A\n",
            " 22% 9/40 [03:05<10:35, 20.51s/it]\u001b[A\n",
            " 25% 10/40 [03:26<10:13, 20.46s/it]\u001b[A\n",
            " 28% 11/40 [03:46<09:53, 20.47s/it]\u001b[A\n",
            " 30% 12/40 [04:06<09:32, 20.43s/it]\u001b[A\n",
            " 32% 13/40 [04:27<09:11, 20.43s/it]\u001b[A\n",
            " 35% 14/40 [04:47<08:50, 20.42s/it]\u001b[A\n",
            " 38% 15/40 [05:08<08:30, 20.43s/it]\u001b[A\n",
            " 40% 16/40 [05:28<08:09, 20.42s/it]\u001b[A\n",
            " 42% 17/40 [05:49<07:49, 20.41s/it]\u001b[A\n",
            " 45% 18/40 [06:09<07:28, 20.39s/it]\u001b[A\n",
            " 48% 19/40 [06:29<07:09, 20.43s/it]\u001b[A\n",
            " 50% 20/40 [06:50<06:52, 20.62s/it]\u001b[A\n",
            " 52% 21/40 [07:11<06:30, 20.55s/it]\u001b[A\n",
            " 55% 22/40 [07:31<06:09, 20.53s/it]\u001b[A\n",
            " 57% 23/40 [07:52<05:49, 20.55s/it]\u001b[A\n",
            " 60% 24/40 [08:12<05:28, 20.50s/it]\u001b[A\n",
            " 62% 25/40 [08:33<05:07, 20.48s/it]\u001b[A\n",
            " 65% 26/40 [08:53<04:46, 20.48s/it]\u001b[A\n",
            " 68% 27/40 [09:14<04:26, 20.50s/it]\u001b[A\n",
            " 70% 28/40 [09:34<04:05, 20.48s/it]\u001b[A\n",
            " 72% 29/40 [09:55<03:45, 20.47s/it]\u001b[A\n",
            " 75% 30/40 [10:15<03:24, 20.45s/it]\u001b[A\n",
            " 78% 31/40 [10:36<03:05, 20.57s/it]\u001b[A\n",
            " 80% 32/40 [10:57<02:45, 20.73s/it]\u001b[A\n",
            " 82% 33/40 [11:17<02:24, 20.65s/it]\u001b[A\n",
            " 85% 34/40 [11:38<02:03, 20.57s/it]\u001b[A\n",
            " 88% 35/40 [11:59<01:42, 20.59s/it]\u001b[A\n",
            " 90% 36/40 [12:19<01:22, 20.55s/it]\u001b[A\n",
            " 92% 37/40 [12:39<01:01, 20.52s/it]\u001b[A\n",
            " 95% 38/40 [13:00<00:41, 20.51s/it]\u001b[A\n",
            " 98% 39/40 [13:21<00:20, 20.62s/it]\u001b[A\n",
            "100% 40/40 [13:30<00:00, 20.27s/it]\n",
            " 30% 3/10 [41:59<1:36:53, 830.51s/it]\n",
            "  0% 0/40 [00:00<?, ?it/s]\u001b[A\n",
            "  2% 1/40 [00:20<13:16, 20.43s/it]\u001b[A\n",
            "  5% 2/40 [00:40<12:55, 20.40s/it]\u001b[A\n",
            "  8% 3/40 [01:01<12:36, 20.45s/it]\u001b[A\n",
            " 10% 4/40 [01:21<12:15, 20.42s/it]\u001b[A\n",
            " 12% 5/40 [01:42<11:54, 20.42s/it]\u001b[A\n",
            " 15% 6/40 [02:02<11:34, 20.43s/it]\u001b[A\n",
            " 18% 7/40 [02:23<11:15, 20.47s/it]\u001b[A\n",
            " 20% 8/40 [02:43<10:53, 20.44s/it]\u001b[A\n",
            " 22% 9/40 [03:03<10:33, 20.44s/it]\u001b[A\n",
            " 25% 10/40 [03:24<10:12, 20.42s/it]\u001b[A\n",
            " 28% 11/40 [03:44<09:53, 20.46s/it]\u001b[A\n",
            " 30% 12/40 [04:05<09:32, 20.45s/it]\u001b[A\n",
            " 32% 13/40 [04:25<09:11, 20.44s/it]\u001b[A\n",
            " 35% 14/40 [04:46<08:51, 20.44s/it]\u001b[A\n",
            " 38% 15/40 [05:06<08:31, 20.47s/it]\u001b[A\n",
            " 40% 16/40 [05:27<08:10, 20.45s/it]\u001b[A\n",
            " 42% 17/40 [05:47<07:49, 20.43s/it]\u001b[A\n",
            " 45% 18/40 [06:07<07:29, 20.43s/it]\u001b[A\n",
            " 48% 19/40 [06:28<07:12, 20.61s/it]\u001b[A\n",
            " 50% 20/40 [06:49<06:50, 20.55s/it]\u001b[A\n",
            " 52% 21/40 [07:09<06:29, 20.51s/it]\u001b[A\n",
            " 55% 22/40 [07:30<06:08, 20.46s/it]\u001b[A\n",
            " 57% 23/40 [07:50<05:47, 20.47s/it]\u001b[A\n",
            " 60% 24/40 [08:10<05:26, 20.43s/it]\u001b[A\n",
            " 62% 25/40 [08:31<05:06, 20.41s/it]\u001b[A\n",
            " 65% 26/40 [08:51<04:45, 20.41s/it]\u001b[A\n",
            " 68% 27/40 [09:12<04:25, 20.41s/it]\u001b[A\n",
            " 70% 28/40 [09:32<04:04, 20.39s/it]\u001b[A\n",
            " 72% 29/40 [09:52<03:44, 20.39s/it]\u001b[A\n",
            " 75% 30/40 [10:13<03:23, 20.38s/it]\u001b[A\n",
            " 78% 31/40 [10:33<03:03, 20.39s/it]\u001b[A\n",
            " 80% 32/40 [10:53<02:43, 20.39s/it]\u001b[A\n",
            " 82% 33/40 [11:14<02:22, 20.38s/it]\u001b[A\n",
            " 85% 34/40 [11:34<02:02, 20.37s/it]\u001b[A\n",
            " 88% 35/40 [11:55<01:41, 20.37s/it]\u001b[A\n",
            " 90% 36/40 [12:15<01:21, 20.36s/it]\u001b[A\n",
            " 92% 37/40 [12:35<01:01, 20.37s/it]\u001b[A\n",
            " 95% 38/40 [12:56<00:40, 20.35s/it]\u001b[A\n",
            " 98% 39/40 [13:17<00:20, 20.56s/it]\u001b[A\n",
            "100% 40/40 [13:26<00:00, 20.17s/it]\n",
            " 40% 4/10 [55:26<1:22:06, 821.14s/it]\n",
            "  0% 0/40 [00:00<?, ?it/s]\u001b[A\n",
            "  2% 1/40 [00:20<13:14, 20.36s/it]\u001b[A\n",
            "  5% 2/40 [00:40<12:52, 20.32s/it]\u001b[A\n",
            "  8% 3/40 [01:01<12:34, 20.38s/it]\u001b[A\n",
            " 10% 4/40 [01:21<12:12, 20.36s/it]\u001b[A\n",
            " 12% 5/40 [01:41<11:52, 20.36s/it]\u001b[A\n",
            " 15% 6/40 [02:02<11:31, 20.35s/it]\u001b[A\n",
            " 18% 7/40 [02:22<11:12, 20.37s/it]\u001b[A\n",
            " 20% 8/40 [02:42<10:52, 20.38s/it]\u001b[A\n",
            " 22% 9/40 [03:03<10:32, 20.39s/it]\u001b[A\n",
            " 25% 10/40 [03:23<10:11, 20.39s/it]\u001b[A\n",
            " 28% 11/40 [03:44<09:51, 20.40s/it]\u001b[A\n",
            " 30% 12/40 [04:04<09:30, 20.37s/it]\u001b[A\n",
            " 32% 13/40 [04:24<09:09, 20.37s/it]\u001b[A\n",
            " 35% 14/40 [04:45<08:49, 20.35s/it]\u001b[A\n",
            " 38% 15/40 [05:05<08:29, 20.36s/it]\u001b[A\n",
            " 40% 16/40 [05:25<08:08, 20.35s/it]\u001b[A\n",
            " 42% 17/40 [05:46<07:47, 20.34s/it]\u001b[A\n",
            " 45% 18/40 [06:06<07:28, 20.41s/it]\u001b[A\n",
            " 48% 19/40 [06:27<07:11, 20.55s/it]\u001b[A\n",
            " 50% 20/40 [06:47<06:49, 20.48s/it]\u001b[A\n",
            " 52% 21/40 [07:08<06:27, 20.42s/it]\u001b[A\n",
            " 55% 22/40 [07:28<06:07, 20.41s/it]\u001b[A\n",
            " 57% 23/40 [07:48<05:46, 20.40s/it]\u001b[A\n",
            " 60% 24/40 [08:09<05:25, 20.36s/it]\u001b[A\n",
            " 62% 25/40 [08:29<05:05, 20.35s/it]\u001b[A\n",
            " 65% 26/40 [08:49<04:44, 20.34s/it]\u001b[A\n",
            " 68% 27/40 [09:10<04:24, 20.33s/it]\u001b[A\n",
            " 70% 28/40 [09:30<04:03, 20.32s/it]\u001b[A\n",
            " 72% 29/40 [09:50<03:43, 20.33s/it]\u001b[A\n",
            " 75% 30/40 [10:11<03:23, 20.33s/it]\u001b[A\n",
            " 78% 31/40 [10:31<03:03, 20.36s/it]\u001b[A\n",
            " 80% 32/40 [10:51<02:42, 20.36s/it]\u001b[A\n",
            " 82% 33/40 [11:12<02:22, 20.36s/it]\u001b[A\n",
            " 85% 34/40 [11:32<02:02, 20.34s/it]\u001b[A\n",
            " 88% 35/40 [11:52<01:41, 20.33s/it]\u001b[A\n",
            " 90% 36/40 [12:13<01:21, 20.32s/it]\u001b[A\n",
            " 92% 37/40 [12:33<01:01, 20.35s/it]\u001b[A\n",
            " 95% 38/40 [12:54<00:41, 20.51s/it]\u001b[A\n",
            " 98% 39/40 [13:15<00:20, 20.51s/it]\u001b[A\n",
            "100% 40/40 [13:24<00:00, 20.12s/it]\n",
            " 50% 5/10 [1:08:51<1:07:56, 815.22s/it]\n",
            "  0% 0/40 [00:00<?, ?it/s]\u001b[A\n",
            "  2% 1/40 [00:20<13:11, 20.29s/it]\u001b[A\n",
            "  5% 2/40 [00:40<12:50, 20.28s/it]\u001b[A\n",
            "  8% 3/40 [01:00<12:31, 20.32s/it]\u001b[A\n",
            " 10% 4/40 [01:21<12:11, 20.33s/it]\u001b[A\n",
            " 12% 5/40 [01:41<11:51, 20.33s/it]\u001b[A\n",
            " 15% 6/40 [02:01<11:30, 20.31s/it]\u001b[A\n",
            " 18% 7/40 [02:22<11:10, 20.33s/it]\u001b[A\n",
            " 20% 8/40 [02:42<10:50, 20.33s/it]\u001b[A\n",
            " 22% 9/40 [03:02<10:29, 20.31s/it]\u001b[A\n",
            " 25% 10/40 [03:23<10:09, 20.32s/it]\u001b[A\n",
            " 28% 11/40 [03:43<09:50, 20.35s/it]\u001b[A\n",
            " 30% 12/40 [04:03<09:29, 20.32s/it]\u001b[A\n",
            " 32% 13/40 [04:24<09:08, 20.33s/it]\u001b[A\n",
            " 35% 14/40 [04:44<08:48, 20.33s/it]\u001b[A\n",
            " 38% 15/40 [05:04<08:28, 20.35s/it]\u001b[A\n",
            " 40% 16/40 [05:25<08:07, 20.33s/it]\u001b[A\n",
            " 42% 17/40 [05:45<07:47, 20.32s/it]\u001b[A\n",
            " 45% 18/40 [06:06<07:30, 20.46s/it]\u001b[A\n",
            " 48% 19/40 [06:26<07:09, 20.46s/it]\u001b[A\n",
            " 50% 20/40 [06:47<06:48, 20.40s/it]\u001b[A\n",
            " 52% 21/40 [07:07<06:27, 20.38s/it]\u001b[A\n",
            " 55% 22/40 [07:27<06:06, 20.34s/it]\u001b[A\n",
            " 57% 23/40 [07:47<05:45, 20.33s/it]\u001b[A\n",
            " 60% 24/40 [08:08<05:24, 20.31s/it]\u001b[A\n",
            " 62% 25/40 [08:28<05:04, 20.31s/it]\u001b[A\n",
            " 65% 26/40 [08:48<04:44, 20.29s/it]\u001b[A\n",
            " 68% 27/40 [09:09<04:24, 20.31s/it]\u001b[A\n",
            " 70% 28/40 [09:29<04:03, 20.29s/it]\u001b[A\n",
            " 72% 29/40 [09:49<03:42, 20.27s/it]\u001b[A\n",
            " 75% 30/40 [10:09<03:22, 20.24s/it]\u001b[A\n",
            " 78% 31/40 [10:30<03:02, 20.28s/it]\u001b[A\n",
            " 80% 32/40 [10:50<02:42, 20.27s/it]\u001b[A\n",
            " 82% 33/40 [11:10<02:21, 20.26s/it]\u001b[A\n",
            " 85% 34/40 [11:30<02:01, 20.26s/it]\u001b[A\n",
            " 88% 35/40 [11:51<01:41, 20.27s/it]\u001b[A\n",
            " 90% 36/40 [12:11<01:21, 20.27s/it]\u001b[A\n",
            " 92% 37/40 [12:31<01:00, 20.28s/it]\u001b[A\n",
            " 95% 38/40 [12:52<00:40, 20.48s/it]\u001b[A\n",
            " 98% 39/40 [13:13<00:20, 20.50s/it]\u001b[A\n",
            "100% 40/40 [13:22<00:00, 20.07s/it]\n",
            " 60% 6/10 [1:22:14<54:04, 811.03s/it]  \n",
            "  0% 0/40 [00:00<?, ?it/s]\u001b[A\n",
            "  2% 1/40 [00:20<13:11, 20.30s/it]\u001b[A\n",
            "  5% 2/40 [00:40<12:53, 20.36s/it]\u001b[A\n",
            "  8% 3/40 [01:01<12:33, 20.35s/it]\u001b[A\n",
            " 10% 4/40 [01:21<12:12, 20.35s/it]\u001b[A\n",
            " 12% 5/40 [01:41<11:52, 20.35s/it]\u001b[A\n",
            " 15% 6/40 [02:02<11:30, 20.32s/it]\u001b[A\n",
            " 18% 7/40 [02:22<11:11, 20.35s/it]\u001b[A\n",
            " 20% 8/40 [02:42<10:51, 20.36s/it]\u001b[A\n",
            " 22% 9/40 [03:03<10:29, 20.31s/it]\u001b[A\n",
            " 25% 10/40 [03:23<10:09, 20.31s/it]\u001b[A\n",
            " 28% 11/40 [03:43<09:49, 20.31s/it]\u001b[A\n",
            " 30% 12/40 [04:03<09:28, 20.31s/it]\u001b[A\n",
            " 32% 13/40 [04:24<09:07, 20.28s/it]\u001b[A\n",
            " 35% 14/40 [04:44<08:47, 20.30s/it]\u001b[A\n",
            " 38% 15/40 [05:04<08:27, 20.32s/it]\u001b[A\n",
            " 40% 16/40 [05:25<08:07, 20.31s/it]\u001b[A\n",
            " 42% 17/40 [05:45<07:47, 20.32s/it]\u001b[A\n",
            " 45% 18/40 [06:06<07:30, 20.49s/it]\u001b[A\n",
            " 48% 19/40 [06:26<07:09, 20.44s/it]\u001b[A\n",
            " 50% 20/40 [06:46<06:47, 20.39s/it]\u001b[A\n",
            " 52% 21/40 [07:07<06:26, 20.36s/it]\u001b[A\n",
            " 55% 22/40 [07:27<06:05, 20.33s/it]\u001b[A\n",
            " 57% 23/40 [07:47<05:45, 20.34s/it]\u001b[A\n",
            " 60% 24/40 [08:08<05:25, 20.33s/it]\u001b[A\n",
            " 62% 25/40 [08:28<05:04, 20.33s/it]\u001b[A\n",
            " 65% 26/40 [08:48<04:44, 20.31s/it]\u001b[A\n",
            " 68% 27/40 [09:09<04:24, 20.33s/it]\u001b[A\n",
            " 70% 28/40 [09:29<04:04, 20.34s/it]\u001b[A\n",
            " 72% 29/40 [09:49<03:43, 20.34s/it]\u001b[A\n",
            " 75% 30/40 [10:10<03:23, 20.35s/it]\u001b[A\n",
            " 78% 31/40 [10:30<03:03, 20.35s/it]\u001b[A\n",
            " 80% 32/40 [10:50<02:42, 20.34s/it]\u001b[A\n",
            " 82% 33/40 [11:11<02:22, 20.32s/it]\u001b[A\n",
            " 85% 34/40 [11:31<02:01, 20.31s/it]\u001b[A\n",
            " 88% 35/40 [11:51<01:41, 20.34s/it]\u001b[A\n",
            " 90% 36/40 [12:12<01:21, 20.32s/it]\u001b[A\n",
            " 92% 37/40 [12:32<01:01, 20.35s/it]\u001b[A\n",
            " 95% 38/40 [12:53<00:41, 20.57s/it]\u001b[A\n",
            " 98% 39/40 [13:14<00:20, 20.51s/it]\u001b[A\n",
            "100% 40/40 [13:23<00:00, 20.09s/it]\n",
            " 70% 7/10 [1:35:38<40:25, 808.63s/it]\n",
            "  0% 0/40 [00:00<?, ?it/s]\u001b[A\n",
            "  2% 1/40 [00:20<13:11, 20.29s/it]\u001b[A\n",
            "  5% 2/40 [00:40<12:50, 20.27s/it]\u001b[A\n",
            "  8% 3/40 [01:00<12:31, 20.32s/it]\u001b[A\n",
            " 10% 4/40 [01:21<12:12, 20.35s/it]\u001b[A\n",
            " 12% 5/40 [01:41<11:52, 20.37s/it]\u001b[A\n",
            " 15% 6/40 [02:02<11:31, 20.34s/it]\u001b[A\n",
            " 18% 7/40 [02:22<11:11, 20.34s/it]\u001b[A\n",
            " 20% 8/40 [02:42<10:52, 20.38s/it]\u001b[A\n",
            " 22% 9/40 [03:03<10:31, 20.37s/it]\u001b[A\n",
            " 25% 10/40 [03:23<10:10, 20.37s/it]\u001b[A\n",
            " 28% 11/40 [03:43<09:50, 20.36s/it]\u001b[A\n",
            " 30% 12/40 [04:04<09:30, 20.36s/it]\u001b[A\n",
            " 32% 13/40 [04:24<09:08, 20.32s/it]\u001b[A\n",
            " 35% 14/40 [04:44<08:47, 20.30s/it]\u001b[A\n",
            " 38% 15/40 [05:05<08:27, 20.31s/it]\u001b[A\n",
            " 40% 16/40 [05:25<08:07, 20.32s/it]\u001b[A\n",
            " 42% 17/40 [05:45<07:47, 20.33s/it]\u001b[A\n",
            " 45% 18/40 [06:06<07:30, 20.48s/it]\u001b[A\n",
            " 48% 19/40 [06:26<07:09, 20.43s/it]\u001b[A\n",
            " 50% 20/40 [06:47<06:48, 20.41s/it]\u001b[A\n",
            " 52% 21/40 [07:07<06:27, 20.38s/it]\u001b[A\n",
            " 55% 22/40 [07:27<06:06, 20.37s/it]\u001b[A\n",
            " 57% 23/40 [07:48<05:46, 20.38s/it]\u001b[A\n",
            " 60% 24/40 [08:08<05:26, 20.38s/it]\u001b[A\n",
            " 62% 25/40 [08:29<05:05, 20.36s/it]\u001b[A\n",
            " 65% 26/40 [08:49<04:45, 20.36s/it]\u001b[A\n",
            " 68% 27/40 [09:09<04:24, 20.36s/it]\u001b[A\n",
            " 70% 28/40 [09:30<04:04, 20.34s/it]\u001b[A\n",
            " 72% 29/40 [09:50<03:43, 20.34s/it]\u001b[A\n",
            " 75% 30/40 [10:10<03:23, 20.32s/it]\u001b[A\n",
            " 78% 31/40 [10:30<03:02, 20.31s/it]\u001b[A\n",
            " 80% 32/40 [10:51<02:42, 20.31s/it]\u001b[A\n",
            " 82% 33/40 [11:11<02:22, 20.29s/it]\u001b[A\n",
            " 85% 34/40 [11:31<02:01, 20.27s/it]\u001b[A\n",
            " 88% 35/40 [11:52<01:41, 20.28s/it]\u001b[A\n",
            " 90% 36/40 [12:12<01:21, 20.30s/it]\u001b[A\n",
            " 92% 37/40 [12:32<01:01, 20.38s/it]\u001b[A\n",
            " 95% 38/40 [12:53<00:40, 20.33s/it]\u001b[A\n",
            " 98% 39/40 [13:13<00:20, 20.33s/it]\u001b[A\n",
            "100% 40/40 [13:23<00:00, 20.08s/it]\n",
            " 80% 8/10 [1:49:01<26:53, 806.89s/it]\n",
            "  0% 0/40 [00:00<?, ?it/s]\u001b[A\n",
            "  2% 1/40 [00:20<13:09, 20.23s/it]\u001b[A\n",
            "  5% 2/40 [00:40<12:50, 20.27s/it]\u001b[A\n",
            "  8% 3/40 [01:00<12:30, 20.29s/it]\u001b[A\n",
            " 10% 4/40 [01:21<12:12, 20.35s/it]\u001b[A\n",
            " 12% 5/40 [01:41<11:52, 20.35s/it]\u001b[A\n",
            " 15% 6/40 [02:01<11:31, 20.34s/it]\u001b[A\n",
            " 18% 7/40 [02:22<11:10, 20.32s/it]\u001b[A\n",
            " 20% 8/40 [02:42<10:49, 20.31s/it]\u001b[A\n",
            " 22% 9/40 [03:02<10:29, 20.31s/it]\u001b[A\n",
            " 25% 10/40 [03:23<10:08, 20.29s/it]\u001b[A\n",
            " 28% 11/40 [03:43<09:48, 20.29s/it]\u001b[A\n",
            " 30% 12/40 [04:03<09:28, 20.32s/it]\u001b[A\n",
            " 32% 13/40 [04:24<09:08, 20.30s/it]\u001b[A\n",
            " 35% 14/40 [04:44<08:48, 20.31s/it]\u001b[A\n",
            " 38% 15/40 [05:04<08:27, 20.30s/it]\u001b[A\n",
            " 40% 16/40 [05:24<08:07, 20.30s/it]\u001b[A\n",
            " 42% 17/40 [05:45<07:49, 20.41s/it]\u001b[A\n",
            " 45% 18/40 [06:05<07:27, 20.35s/it]\u001b[A\n",
            " 48% 19/40 [06:26<07:06, 20.32s/it]\u001b[A\n",
            " 50% 20/40 [06:46<06:46, 20.35s/it]\u001b[A\n",
            " 52% 21/40 [07:06<06:25, 20.31s/it]\u001b[A\n",
            " 55% 22/40 [07:26<06:05, 20.28s/it]\u001b[A\n",
            " 57% 23/40 [07:47<05:45, 20.29s/it]\u001b[A\n",
            " 60% 24/40 [08:07<05:24, 20.31s/it]\u001b[A\n",
            " 62% 25/40 [08:27<05:04, 20.28s/it]\u001b[A\n",
            " 65% 26/40 [08:48<04:43, 20.27s/it]\u001b[A\n",
            " 68% 27/40 [09:08<04:23, 20.29s/it]\u001b[A\n",
            " 70% 28/40 [09:28<04:03, 20.29s/it]\u001b[A\n",
            " 72% 29/40 [09:48<03:43, 20.28s/it]\u001b[A\n",
            " 75% 30/40 [10:09<03:22, 20.28s/it]\u001b[A\n",
            " 78% 31/40 [10:29<03:02, 20.29s/it]\u001b[A\n",
            " 80% 32/40 [10:49<02:42, 20.31s/it]\u001b[A\n",
            " 82% 33/40 [11:10<02:21, 20.28s/it]\u001b[A\n",
            " 85% 34/40 [11:30<02:01, 20.26s/it]\u001b[A\n",
            " 88% 35/40 [11:50<01:41, 20.25s/it]\u001b[A\n",
            " 90% 36/40 [12:10<01:21, 20.29s/it]\u001b[A\n",
            " 92% 37/40 [12:31<01:00, 20.33s/it]\u001b[A\n",
            " 95% 38/40 [12:51<00:40, 20.31s/it]\u001b[A\n",
            " 98% 39/40 [13:11<00:20, 20.29s/it]\u001b[A\n",
            "100% 40/40 [13:21<00:00, 20.04s/it]\n",
            " 90% 9/10 [2:02:22<13:25, 805.24s/it]\n",
            "  0% 0/40 [00:00<?, ?it/s]\u001b[A\n",
            "  2% 1/40 [00:20<13:10, 20.26s/it]\u001b[A\n",
            "  5% 2/40 [00:40<12:49, 20.26s/it]\u001b[A\n",
            "  8% 3/40 [01:00<12:30, 20.29s/it]\u001b[A\n",
            " 10% 4/40 [01:21<12:10, 20.30s/it]\u001b[A\n",
            " 12% 5/40 [01:41<11:50, 20.30s/it]\u001b[A\n",
            " 15% 6/40 [02:01<11:29, 20.28s/it]\u001b[A\n",
            " 18% 7/40 [02:21<11:08, 20.27s/it]\u001b[A\n",
            " 20% 8/40 [02:42<10:49, 20.29s/it]\u001b[A\n",
            " 22% 9/40 [03:02<10:28, 20.28s/it]\u001b[A\n",
            " 25% 10/40 [03:22<10:07, 20.25s/it]\u001b[A\n",
            " 28% 11/40 [03:42<09:47, 20.25s/it]\u001b[A\n",
            " 30% 12/40 [04:03<09:27, 20.28s/it]\u001b[A\n",
            " 32% 13/40 [04:23<09:06, 20.26s/it]\u001b[A\n",
            " 35% 14/40 [04:43<08:46, 20.24s/it]\u001b[A\n",
            " 38% 15/40 [05:04<08:26, 20.26s/it]\u001b[A\n",
            " 40% 16/40 [05:24<08:08, 20.34s/it]\u001b[A\n",
            " 42% 17/40 [05:44<07:47, 20.34s/it]\u001b[A\n",
            " 45% 18/40 [06:05<07:27, 20.33s/it]\u001b[A\n",
            " 48% 19/40 [06:25<07:06, 20.30s/it]\u001b[A\n",
            " 50% 20/40 [06:45<06:46, 20.32s/it]\u001b[A\n",
            " 52% 21/40 [07:06<06:25, 20.31s/it]\u001b[A\n",
            " 55% 22/40 [07:26<06:05, 20.29s/it]\u001b[A\n",
            " 57% 23/40 [07:46<05:44, 20.28s/it]\u001b[A\n",
            " 60% 24/40 [08:06<05:24, 20.28s/it]\u001b[A\n",
            " 62% 25/40 [08:27<05:04, 20.27s/it]\u001b[A\n",
            " 65% 26/40 [08:47<04:43, 20.25s/it]\u001b[A\n",
            " 68% 27/40 [09:07<04:23, 20.26s/it]\u001b[A\n",
            " 70% 28/40 [09:27<04:03, 20.27s/it]\u001b[A\n",
            " 72% 29/40 [09:48<03:43, 20.29s/it]\u001b[A\n",
            " 75% 30/40 [10:08<03:22, 20.27s/it]\u001b[A\n",
            " 78% 31/40 [10:28<03:02, 20.25s/it]\u001b[A\n",
            " 80% 32/40 [10:48<02:42, 20.28s/it]\u001b[A\n",
            " 82% 33/40 [11:09<02:22, 20.29s/it]\u001b[A\n",
            " 85% 34/40 [11:29<02:01, 20.26s/it]\u001b[A\n",
            " 88% 35/40 [11:50<01:41, 20.39s/it]\u001b[A\n",
            " 90% 36/40 [12:10<01:21, 20.37s/it]\u001b[A\n",
            " 92% 37/40 [12:30<01:00, 20.33s/it]\u001b[A\n",
            " 95% 38/40 [12:50<00:40, 20.30s/it]\u001b[A\n",
            " 98% 39/40 [13:11<00:20, 20.29s/it]\u001b[A\n",
            "100% 40/40 [13:20<00:00, 20.02s/it]\n",
            "100% 10/10 [2:15:43<00:00, 814.38s/it]\n"
          ]
        }
      ],
      "source": [
        "!python run.py --config_file=\"example_configs/logp_gcnn_config.py\" --mode=\"train_eval\" --batch_size=100 --num_epochs=10"
      ]
    },
    {
      "cell_type": "code",
      "execution_count": 14,
      "metadata": {
        "colab": {
          "base_uri": "https://localhost:8080/"
        },
        "id": "SZpJbgBs8-hZ",
        "outputId": "3179ed3c-7621-4eae-9613-3fbb3b984f5f"
      },
      "outputs": [
        {
          "output_type": "stream",
          "name": "stdout",
          "text": [
            "/content/OpenChem/openchem/data/utils.py:186: UserWarning: 1230/11339 unsanitized smiles (10.8%)\n",
            "  warnings.warn('{:d}/{:d} unsanitized smiles ({:.1f}%)'.format(num_bad, len(smiles), 100 * invalid_rate))\n",
            "/content/OpenChem/openchem/data/utils.py:186: UserWarning: 300/2835 unsanitized smiles (10.6%)\n",
            "  warnings.warn('{:d}/{:d} unsanitized smiles ({:.1f}%)'.format(num_bad, len(smiles), 100 * invalid_rate))\n",
            "2022-05-31 09:42:46,477 openchem INFO: Running on 1 GPUs\n",
            "2022-05-31 09:42:46,477 openchem INFO: Logging directory is set to logs/logp_gcnn_logs\n",
            "2022-05-31 09:42:46,477 openchem INFO: Running with config:\n",
            "batch_size:                                       256\n",
            "encoder_params/encoder_dim:                       128\n",
            "encoder_params/input_size:                        33\n",
            "encoder_params/n_layers:                          5\n",
            "logdir:                                           logs/logp_gcnn_logs\n",
            "lr_scheduler_params/gamma:                        0.8\n",
            "lr_scheduler_params/step_size:                    15\n",
            "mlp_params/input_size:                            128\n",
            "mlp_params/n_layers:                              2\n",
            "num_epochs:                                       101\n",
            "optimizer_params/lr:                              0.0005\n",
            "print_every:                                      10\n",
            "random_seed:                                      42\n",
            "save_every:                                       5\n",
            "task:                                             regression\n",
            "use_clip_grad:                                    False\n",
            "use_cuda:                                         False\n",
            "\n",
            "2022-05-31 09:42:46,530 openchem INFO: Loading model from logs/logp_gcnn_logs/checkpoint/epoch_5\n",
            "2022-05-31 09:44:08,226 openchem.evaluate INFO: EVALUATION: [Time: 1m 21s, Loss: 0.8355, Metrics: 0.7593]\n"
          ]
        }
      ],
      "source": [
        "!python launch.py --nproc_per_node=1 run.py --config_file=\"example_configs/logp_gcnn_config.py\" --mode=\"eval\""
      ]
    },
    {
      "cell_type": "code",
      "execution_count": null,
      "metadata": {
        "id": "tR-kubPp9HA0"
      },
      "outputs": [],
      "source": [
        ""
      ]
    }
  ],
  "metadata": {
    "accelerator": "GPU",
    "colab": {
      "collapsed_sections": [],
      "name": "OpenChem Implementation V2.ipynb",
      "provenance": [],
      "authorship_tag": "ABX9TyMmv1jiHjLIze4HhRviynSP",
      "include_colab_link": true
    },
    "kernelspec": {
      "display_name": "Python 3",
      "name": "python3"
    },
    "language_info": {
      "name": "python"
    }
  },
  "nbformat": 4,
  "nbformat_minor": 0
}